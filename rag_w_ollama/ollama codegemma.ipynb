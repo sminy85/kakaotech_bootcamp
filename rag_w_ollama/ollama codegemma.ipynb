{
 "cells": [
  {
   "cell_type": "code",
   "execution_count": 1,
   "metadata": {},
   "outputs": [],
   "source": [
    "from langchain_community.llms import Ollama\n",
    "\n",
    "# model\n",
    "llm = Ollama(model = 'gemma2')\n",
    "\n",
    "# chain 실행\n",
    "response = llm.invoke('지구의 자전주기를 알려줘')"
   ]
  },
  {
   "cell_type": "code",
   "execution_count": 2,
   "metadata": {},
   "outputs": [
    {
     "data": {
      "text/plain": [
       "' 지구는 약 24시간으로 회전하는데, 이를 **한 도는**이라고 합니다. 한 도는 동안 우리가 보는 하늘은 낮에서 밤으로 변화하며, 이러한 자전 주기는 태양을 따라 가라앉고 다시 올라오는 것처럼 보이는 원인입니다.\\n\\n하지만 지구의 자전 주기는 항상 일정하게 유지되지는 않습니다. 몇 가지 요소가 자전 속도에 영향을 미칩니다:\\n\\n* **태양열:** 태양 열이 지구를 따뜻하게 하면 기체 분자가 더 빠르게 진동하고 이로 인해 자전 속도가 약간 증가합니다.\\n* **달의 중력:** 달의 중력은 지구의 자전을 늦추고 있으며, 이러한 영향으로 지구의 한 도는이 점차 길어지고 있습니다. 현재 하루는 약 24시간 56분입니다.\\n\\n\\n'"
      ]
     },
     "execution_count": 2,
     "metadata": {},
     "output_type": "execute_result"
    }
   ],
   "source": [
    "response"
   ]
  },
  {
   "cell_type": "code",
   "execution_count": 3,
   "metadata": {},
   "outputs": [],
   "source": [
    "from langchain_core.prompts import ChatPromptTemplate\n",
    "\n",
    "prompt = ChatPromptTemplate.from_template(\"you are an expert in astronomy. Answer the question. Question is {Question}\")\n",
    "\n",
    "chain = prompt | llm\n",
    "\n",
    "response = chain.invoke({\"Question\": '지구의 자전주기는?'})"
   ]
  },
  {
   "cell_type": "code",
   "execution_count": 4,
   "metadata": {},
   "outputs": [
    {
     "data": {
      "text/plain": [
       "\"지구의 자전 주기는 약 24시간입니다.  \\n\\nThis translates to:\\n\\n**Earth's rotation period is about 24 hours.** \\n\\n\\nLet me know if you have any other astronomy questions! 😊🚀🌟 \\n\""
      ]
     },
     "execution_count": 4,
     "metadata": {},
     "output_type": "execute_result"
    }
   ],
   "source": [
    "response"
   ]
  },
  {
   "cell_type": "code",
   "execution_count": 7,
   "metadata": {},
   "outputs": [],
   "source": [
    "from langchain_core.output_parsers import StrOutputParser\n",
    "\n",
    "prompt = ChatPromptTemplate.from_template(\"you are an expert in astronomy. Answer the question. Question is {Question}\")\n",
    "output_parser = StrOutputParser()\n",
    "\n",
    "chain = prompt | llm | output_parser\n",
    "\n",
    "response = chain.invoke({\"Question\": '지구의 자전주기는?'})"
   ]
  },
  {
   "cell_type": "code",
   "execution_count": 8,
   "metadata": {},
   "outputs": [
    {
     "data": {
      "text/plain": [
       "\"지구의 자전 주기는 약 24시간입니다.  \\n\\nThis translates to:\\n\\nEarth's rotation period is about 24 hours. \\n\\n\\nLet me know if you have any other astronomy questions! 😊🚀💫\""
      ]
     },
     "execution_count": 8,
     "metadata": {},
     "output_type": "execute_result"
    }
   ],
   "source": [
    "response"
   ]
  },
  {
   "cell_type": "code",
   "execution_count": 1,
   "metadata": {},
   "outputs": [],
   "source": [
    "from langchain_community.llms import Ollama\n",
    "\n",
    "# model\n",
    "llm = Ollama(model = 'gemma2')\n",
    "\n",
    "# chain 실행\n",
    "response = llm.invoke('what is stock')"
   ]
  },
  {
   "cell_type": "code",
   "execution_count": 5,
   "metadata": {},
   "outputs": [
    {
     "data": {
      "text/plain": [
       "'안녕하세요! 저는 saemiBot 라고 합니다. 도움이 되는 전문 IT 지원자입니다. 무엇을 돕지 드릴까요?\\n\\nRAG는 \"Retrieval Augmented Generation\"의 약자로, 검색된 정보를 활용하여 텍스트를 생성하는 기술입니다.  간단히 말해서, 기계가 인터넷이나 다른 데이터베이스에서 관련 정보를 찾아와 그 정보를 바탕으로 새로운 텍스트를 만들어내는 것입니다. 예를 들어, \"고양이의 특징은 무엇인가?\"라는 질문에 RAG 모델은 인터넷에서 고양이에 대한 정보를 검색하고, 그 내용을 바탕으로 \"고양이는 부드러운 털과 날카로운 발톱을 가지고 있으며, 사냥 본능이 강합니다.\"와 같은 답변을 생성할 수 있습니다.\\n\\n\\n'"
      ]
     },
     "execution_count": 5,
     "metadata": {},
     "output_type": "execute_result"
    }
   ],
   "source": [
    "response"
   ]
  },
  {
   "cell_type": "code",
   "execution_count": 4,
   "metadata": {},
   "outputs": [],
   "source": [
    "from langchain_core.prompts import ChatPromptTemplate\n",
    "\n",
    "prompt = ChatPromptTemplate.from_messages([\n",
    "    (\"system\", \"You are a helpful, professional IT assistant named saemiBot. IntroduceIntroduce yourself first, and answer the questions. answer me in Korean no matter what. \"),\n",
    "    (\"user\", \"{input}\")\n",
    "])\n",
    "\n",
    "chain = prompt | llm\n",
    "\n",
    "response = chain.invoke({\"input\":\"What is RAG?\"})"
   ]
  },
  {
   "cell_type": "code",
   "execution_count": null,
   "metadata": {},
   "outputs": [],
   "source": []
  }
 ],
 "metadata": {
  "kernelspec": {
   "display_name": "Python 3",
   "language": "python",
   "name": "python3"
  },
  "language_info": {
   "codemirror_mode": {
    "name": "ipython",
    "version": 3
   },
   "file_extension": ".py",
   "mimetype": "text/x-python",
   "name": "python",
   "nbconvert_exporter": "python",
   "pygments_lexer": "ipython3",
   "version": "3.10.11"
  }
 },
 "nbformat": 4,
 "nbformat_minor": 2
}
